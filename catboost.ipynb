{
 "cells": [
  {
   "cell_type": "code",
   "execution_count": 82,
   "metadata": {},
   "outputs": [],
   "source": [
    "import pandas as pd\n",
    "import numpy as np\n",
    "from imblearn.over_sampling import SMOTE\n",
    "from catboost import CatBoostClassifier\n",
    "from sklearn.model_selection import cross_val_score\n",
    "from sklearn.model_selection import KFold"
   ]
  },
  {
   "cell_type": "code",
   "execution_count": 83,
   "metadata": {},
   "outputs": [
    {
     "name": "stdout",
     "output_type": "stream",
     "text": [
      "0:\tlearn: 0.6184752\ttotal: 8.61ms\tremaining: 4.3s\n",
      "100:\tlearn: 0.3020846\ttotal: 637ms\tremaining: 2.52s\n",
      "200:\tlearn: 0.2842442\ttotal: 1.16s\tremaining: 1.72s\n",
      "300:\tlearn: 0.2755400\ttotal: 1.69s\tremaining: 1.12s\n",
      "400:\tlearn: 0.2678057\ttotal: 2.28s\tremaining: 562ms\n",
      "499:\tlearn: 0.2617539\ttotal: 2.85s\tremaining: 0us\n",
      "Best Parameters: {'depth': 3, 'learning_rate': 0.1, 'n_estimators': 500}\n",
      "Best Accuracy: 0.862854609929078\n",
      "Accuracy: 0.8649431230610134\n",
      "Average Accuracy: 0.862854609929078\n",
      "Accuracy: 0.8649431230610134\n"
     ]
    }
   ],
   "source": [
    "from sklearn.model_selection import GridSearchCV\n",
    "\n",
    "\n",
    "# Read the CSV files\n",
    "X_train = pd.read_csv('X_train.csv')\n",
    "X_test = pd.read_csv('X_test.csv')\n",
    "y_train = pd.read_csv('y_train.csv')\n",
    "y_test = pd.read_csv('y_test.csv')\n",
    "\n",
    "# Perform SMOTE on the training set\n",
    "smote = SMOTE()\n",
    "# X_train_smote, y_train_smote = smote.fit_resample(X_train, y_train)\n",
    "\n",
    "X_train_smote, y_train_smote = X_train, y_train\n",
    "\n",
    "# Use catgory for categorical features\n",
    "cat_features = ['workclass','education','marital-status','occupation','relationship','race','sex','native-country']\n",
    "\n",
    "# Train with CatBoost\n",
    "model = CatBoostClassifier(n_estimators=1000, verbose=100)\n",
    "# Define the number of folds for cross-validation\n",
    "k = 5\n",
    "\n",
    "# model.fit(X_train_smote, y_train_smote, cat_features=cat_features)\n",
    "# Perform k-fold cross-validation\n",
    "\n",
    "# Define the parameter grid for grid search\n",
    "param_grid = {\n",
    "\t'n_estimators': [100, 500, 1000],\n",
    "\t'learning_rate': [0.01, 0.1, 1],\n",
    "\t'depth': [3, 5, 7]\n",
    "}\n",
    "\n",
    "# Create the grid search object\n",
    "grid_search = GridSearchCV(estimator=model, param_grid=param_grid, cv=k, scoring='accuracy', n_jobs=-1)\n",
    "\n",
    "# Perform grid search on the training data\n",
    "grid_search.fit(X_train_smote, y_train_smote)\n",
    "\n",
    "# Get the best model and its parameters\n",
    "best_model = grid_search.best_estimator_\n",
    "best_params = grid_search.best_params_\n",
    "\n",
    "# Print the best parameters and the corresponding accuracy\n",
    "print(\"Best Parameters:\", best_params)\n",
    "print(\"Best Accuracy:\", grid_search.best_score_)\n",
    "\n",
    "# Evaluate the best model on the test data\n",
    "accuracy = best_model.score(X_test, y_test)\n",
    "print(\"Accuracy:\", accuracy)\n",
    "\n",
    "scores = cross_val_score(best_model, X_train_smote, y_train_smote, cv=k, scoring='accuracy', n_jobs=-1)\n",
    "\n",
    "# Print the average accuracy across all folds\n",
    "print(\"Average Accuracy:\", np.mean(scores))\n",
    "\n",
    "# Evaluate the model\n",
    "accuracy = best_model.score(X_test, y_test)\n",
    "print(\"Accuracy:\", accuracy)\n"
   ]
  },
  {
   "cell_type": "code",
   "execution_count": 84,
   "metadata": {},
   "outputs": [
    {
     "name": "stdout",
     "output_type": "stream",
     "text": [
      "              precision    recall  f1-score   support\n",
      "\n",
      "           0       0.89      0.94      0.91      3717\n",
      "           1       0.76      0.61      0.68      1118\n",
      "\n",
      "    accuracy                           0.86      4835\n",
      "   macro avg       0.82      0.78      0.80      4835\n",
      "weighted avg       0.86      0.86      0.86      4835\n",
      "\n"
     ]
    }
   ],
   "source": [
    "from sklearn.metrics import classification_report\n",
    "\n",
    "# Make predictions on the test set\n",
    "y_pred = best_model.predict(X_test)\n",
    "\n",
    "# Generate classification report\n",
    "report = classification_report(y_test, y_pred)\n",
    "print(report)\n"
   ]
  },
  {
   "cell_type": "code",
   "execution_count": 85,
   "metadata": {},
   "outputs": [
    {
     "name": "stdout",
     "output_type": "stream",
     "text": [
      "            Feature     Weight\n",
      "5    marital-status  17.700289\n",
      "14  capital-netGain  16.085229\n",
      "0               age  11.946190\n",
      "7      relationship  11.577715\n",
      "12   hours-per-week   7.492484\n",
      "10     capital-gain   7.364648\n",
      "6        occupation   6.308861\n",
      "4     education-num   5.815287\n",
      "3         education   5.058467\n",
      "2            fnlwgt   3.456635\n",
      "11     capital-loss   3.185696\n",
      "1         workclass   1.466416\n",
      "9               sex   1.219854\n",
      "8              race   0.761758\n",
      "13   native-country   0.560470\n"
     ]
    }
   ],
   "source": [
    "feature_weights = best_model.feature_importances_\n",
    "feature_weights = best_model.feature_importances_\n",
    "\n",
    "# Get the feature names\n",
    "feature_names = X_train.columns\n",
    "\n",
    "# Create a dataframe with feature names and weights\n",
    "weights_df = pd.DataFrame({'Feature': feature_names, 'Weight': feature_weights})\n",
    "\n",
    "# Sort the dataframe by weights in descending order\n",
    "weights_df = weights_df.sort_values(by='Weight', ascending=False)\n",
    "\n",
    "# Display the sorted feature weights\n",
    "print(weights_df)\n"
   ]
  },
  {
   "cell_type": "code",
   "execution_count": 86,
   "metadata": {},
   "outputs": [
    {
     "name": "stdout",
     "output_type": "stream",
     "text": [
      "True     9911\n",
      "False    1369\n",
      "Name: count, dtype: int64\n"
     ]
    }
   ],
   "source": [
    "# Check if both \"capital-gain\" and \"capital-loss\" columns are all zero\n",
    "all_zero = (X_train['capital-gain'] == 0) & (X_train['capital-loss'] == 0)\n",
    "\n",
    "# Print the result\n",
    "print(all_zero.value_counts())\n"
   ]
  }
 ],
 "metadata": {
  "kernelspec": {
   "display_name": "kaggel",
   "language": "python",
   "name": "python3"
  },
  "language_info": {
   "codemirror_mode": {
    "name": "ipython",
    "version": 3
   },
   "file_extension": ".py",
   "mimetype": "text/x-python",
   "name": "python",
   "nbconvert_exporter": "python",
   "pygments_lexer": "ipython3",
   "version": "3.10.13"
  }
 },
 "nbformat": 4,
 "nbformat_minor": 2
}
