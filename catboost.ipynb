{
 "cells": [
  {
   "cell_type": "code",
   "execution_count": 87,
   "metadata": {},
   "outputs": [],
   "source": [
    "import pandas as pd\n",
    "import numpy as np\n",
    "from imblearn.over_sampling import SMOTE\n",
    "from catboost import CatBoostClassifier\n",
    "from sklearn.model_selection import cross_val_score\n",
    "from sklearn.model_selection import KFold"
   ]
  },
  {
   "cell_type": "code",
   "execution_count": 88,
   "metadata": {},
   "outputs": [
    {
     "name": "stdout",
     "output_type": "stream",
     "text": [
      "0:\tlearn: 0.6173099\ttotal: 6.87ms\tremaining: 3.43s\n",
      "100:\tlearn: 0.2803075\ttotal: 636ms\tremaining: 2.51s\n",
      "200:\tlearn: 0.2549536\ttotal: 1.26s\tremaining: 1.87s\n",
      "300:\tlearn: 0.2380366\ttotal: 1.92s\tremaining: 1.27s\n",
      "400:\tlearn: 0.2251270\ttotal: 2.59s\tremaining: 640ms\n",
      "499:\tlearn: 0.2138871\ttotal: 3.26s\tremaining: 0us\n",
      "Best Parameters: {'depth': 5, 'learning_rate': 0.1, 'n_estimators': 500}\n",
      "Best Accuracy: 0.8636524822695035\n",
      "Accuracy: 0.8591520165460186\n",
      "Average Accuracy: 0.8636524822695035\n",
      "Accuracy: 0.8591520165460186\n"
     ]
    }
   ],
   "source": [
    "from sklearn.model_selection import GridSearchCV\n",
    "\n",
    "\n",
    "# Read the CSV files\n",
    "X_train = pd.read_csv('X_train.csv')\n",
    "X_test = pd.read_csv('X_test.csv')\n",
    "y_train = pd.read_csv('y_train.csv')\n",
    "y_test = pd.read_csv('y_test.csv')\n",
    "\n",
    "# Perform SMOTE on the training set\n",
    "smote = SMOTE()\n",
    "# X_train_smote, y_train_smote = smote.fit_resample(X_train, y_train)\n",
    "\n",
    "X_train_smote, y_train_smote = X_train, y_train\n",
    "\n",
    "# Use catgory for categorical features\n",
    "cat_features = ['workclass','education','marital-status','occupation','relationship','race','sex','native-country']\n",
    "\n",
    "# Train with CatBoost\n",
    "model = CatBoostClassifier(n_estimators=1000, verbose=100)\n",
    "# Define the number of folds for cross-validation\n",
    "k = 5\n",
    "\n",
    "# model.fit(X_train_smote, y_train_smote, cat_features=cat_features)\n",
    "# Perform k-fold cross-validation\n",
    "\n",
    "# Define the parameter grid for grid search\n",
    "param_grid = {\n",
    "\t'n_estimators': [100, 500, 1000],\n",
    "\t'learning_rate': [0.01, 0.1, 1],\n",
    "\t'depth': [3, 5, 7]\n",
    "}\n",
    "\n",
    "# Create the grid search object\n",
    "grid_search = GridSearchCV(estimator=model, param_grid=param_grid, cv=k, scoring='accuracy', n_jobs=-1)\n",
    "\n",
    "# Perform grid search on the training data\n",
    "grid_search.fit(X_train_smote, y_train_smote)\n",
    "\n",
    "# Get the best model and its parameters\n",
    "best_model = grid_search.best_estimator_\n",
    "best_params = grid_search.best_params_\n",
    "\n",
    "# Print the best parameters and the corresponding accuracy\n",
    "print(\"Best Parameters:\", best_params)\n",
    "print(\"Best Accuracy:\", grid_search.best_score_)\n",
    "\n",
    "# Evaluate the best model on the test data\n",
    "accuracy = best_model.score(X_test, y_test)\n",
    "print(\"Accuracy:\", accuracy)\n",
    "\n",
    "scores = cross_val_score(best_model, X_train_smote, y_train_smote, cv=k, scoring='accuracy', n_jobs=-1)\n",
    "\n",
    "# Print the average accuracy across all folds\n",
    "print(\"Average Accuracy:\", np.mean(scores))\n",
    "\n",
    "# Evaluate the model\n",
    "accuracy = best_model.score(X_test, y_test)\n",
    "print(\"Accuracy:\", accuracy)\n"
   ]
  },
  {
   "cell_type": "code",
   "execution_count": 89,
   "metadata": {},
   "outputs": [
    {
     "name": "stdout",
     "output_type": "stream",
     "text": [
      "              precision    recall  f1-score   support\n",
      "\n",
      "           0       0.88      0.94      0.91      3659\n",
      "           1       0.76      0.62      0.68      1176\n",
      "\n",
      "    accuracy                           0.86      4835\n",
      "   macro avg       0.82      0.78      0.80      4835\n",
      "weighted avg       0.85      0.86      0.85      4835\n",
      "\n"
     ]
    }
   ],
   "source": [
    "from sklearn.metrics import classification_report\n",
    "\n",
    "# Make predictions on the test set\n",
    "y_pred = best_model.predict(X_test)\n",
    "\n",
    "# Generate classification report\n",
    "report = classification_report(y_test, y_pred)\n",
    "print(report)\n"
   ]
  },
  {
   "cell_type": "code",
   "execution_count": 90,
   "metadata": {},
   "outputs": [
    {
     "name": "stdout",
     "output_type": "stream",
     "text": [
      "            Feature     Weight\n",
      "7      relationship  15.402209\n",
      "0               age  15.168480\n",
      "12   hours-per-week  10.748609\n",
      "14  capital-netGain   9.360187\n",
      "6        occupation   7.720032\n",
      "5    marital-status   7.590900\n",
      "2            fnlwgt   6.908964\n",
      "10     capital-gain   5.869671\n",
      "3         education   5.501945\n",
      "4     education-num   4.640261\n",
      "1         workclass   3.516277\n",
      "11     capital-loss   2.812472\n",
      "9               sex   1.792474\n",
      "13   native-country   1.409531\n",
      "8              race   1.190043\n",
      "15          is-gain   0.367946\n",
      "16          is-loss   0.000000\n"
     ]
    }
   ],
   "source": [
    "feature_weights = best_model.feature_importances_\n",
    "feature_weights = best_model.feature_importances_\n",
    "\n",
    "# Get the feature names\n",
    "feature_names = X_train.columns\n",
    "\n",
    "# Create a dataframe with feature names and weights\n",
    "weights_df = pd.DataFrame({'Feature': feature_names, 'Weight': feature_weights})\n",
    "\n",
    "# Sort the dataframe by weights in descending order\n",
    "weights_df = weights_df.sort_values(by='Weight', ascending=False)\n",
    "\n",
    "# Display the sorted feature weights\n",
    "print(weights_df)\n"
   ]
  },
  {
   "cell_type": "code",
   "execution_count": 91,
   "metadata": {},
   "outputs": [
    {
     "name": "stdout",
     "output_type": "stream",
     "text": [
      "True     9949\n",
      "False    1331\n",
      "Name: count, dtype: int64\n"
     ]
    }
   ],
   "source": [
    "# Check if both \"capital-gain\" and \"capital-loss\" columns are all zero\n",
    "all_zero = (X_train['capital-gain'] == 0) & (X_train['capital-loss'] == 0)\n",
    "\n",
    "# Print the result\n",
    "print(all_zero.value_counts())\n"
   ]
  }
 ],
 "metadata": {
  "kernelspec": {
   "display_name": "kaggel",
   "language": "python",
   "name": "python3"
  },
  "language_info": {
   "codemirror_mode": {
    "name": "ipython",
    "version": 3
   },
   "file_extension": ".py",
   "mimetype": "text/x-python",
   "name": "python",
   "nbconvert_exporter": "python",
   "pygments_lexer": "ipython3",
   "version": "3.10.13"
  }
 },
 "nbformat": 4,
 "nbformat_minor": 2
}
