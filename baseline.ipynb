{
 "cells": [
  {
   "cell_type": "code",
   "execution_count": 21,
   "metadata": {},
   "outputs": [],
   "source": [
    "import pandas as pd\n",
    "import numpy as np"
   ]
  },
  {
   "cell_type": "code",
   "execution_count": 22,
   "metadata": {},
   "outputs": [],
   "source": [
    "# 读取census_income.csv\n",
    "census_income = pd.read_csv('census_income.csv')\n",
    "# 将数据集中的非数值类进行标签化\n",
    "from sklearn.preprocessing import LabelEncoder\n",
    "labelencoder = LabelEncoder()\n",
    "for col in census_income.columns:\n",
    "\tif census_income[col].dtype == 'object':\n",
    "\t\tcensus_income[col] = labelencoder.fit_transform(census_income[col])\n",
    "\n",
    "# 使用平均数填充缺失值\n",
    "census_income = census_income.fillna(census_income.mean())\n"
   ]
  },
  {
   "cell_type": "code",
   "execution_count": 23,
   "metadata": {},
   "outputs": [],
   "source": [
    "# 将数据集划分为X和y\n",
    "X = census_income.iloc[:, :-1]\n",
    "y = census_income.iloc[:, -1]\n",
    "\n",
    "# 1. 将数据集划分为训练集和测试集，其中测试集占总数据集的30%\n",
    "from sklearn.model_selection import train_test_split\n",
    "X_train, X_test, y_train, y_test = train_test_split(X, y,\n",
    "\t\t\t\t\t\t\t\t\t\t\t\t\ttest_size=.3,\n",
    "\t\t\t\t\t\t\t\t\t\t\t\t\trandom_state=42)"
   ]
  },
  {
   "cell_type": "code",
   "execution_count": 24,
   "metadata": {},
   "outputs": [],
   "source": [
    "# 使用SMOTE处理类别不平衡情况\n",
    "from imblearn.over_sampling import SMOTE\n",
    "sm = SMOTE(random_state=42)\n",
    "X_train_sm, y_train_sm = sm.fit_resample(X_train, y_train)"
   ]
  },
  {
   "cell_type": "code",
   "execution_count": 27,
   "metadata": {},
   "outputs": [
    {
     "name": "stdout",
     "output_type": "stream",
     "text": [
      "Learning rate set to 0.012716\n",
      "0:\tlearn: 0.6816165\ttotal: 5.87ms\tremaining: 17.6s\n",
      "300:\tlearn: 0.2801017\ttotal: 1.82s\tremaining: 16.3s\n",
      "600:\tlearn: 0.2522251\ttotal: 3.55s\tremaining: 14.2s\n",
      "900:\tlearn: 0.2336880\ttotal: 5.27s\tremaining: 12.3s\n",
      "1200:\tlearn: 0.2194157\ttotal: 6.99s\tremaining: 10.5s\n",
      "1500:\tlearn: 0.2084288\ttotal: 8.7s\tremaining: 8.69s\n",
      "1800:\tlearn: 0.1994771\ttotal: 10.3s\tremaining: 6.89s\n",
      "2100:\tlearn: 0.1916290\ttotal: 12.1s\tremaining: 5.16s\n",
      "2400:\tlearn: 0.1844780\ttotal: 13.7s\tremaining: 3.42s\n",
      "2700:\tlearn: 0.1781210\ttotal: 15.4s\tremaining: 1.7s\n",
      "2999:\tlearn: 0.1722489\ttotal: 17s\tremaining: 0us\n",
      "              precision    recall  f1-score   support\n",
      "\n",
      "           0       0.90      0.91      0.90      3696\n",
      "           1       0.71      0.69      0.70      1189\n",
      "\n",
      "    accuracy                           0.85      4885\n",
      "   macro avg       0.80      0.80      0.80      4885\n",
      "weighted avg       0.85      0.85      0.85      4885\n",
      "\n"
     ]
    }
   ],
   "source": [
    "# 使用catboost进行分类\n",
    "from catboost import CatBoostClassifier\n",
    "catboost = CatBoostClassifier(verbose=300, random_state=42, n_estimators=3000)\n",
    "# 设置 one_hot_max_size 参数\n",
    "catboost.set_params(one_hot_max_size=50)\n",
    "\n",
    "catboost.fit(X_train_sm, y_train_sm)\n",
    "y_pred = catboost.predict(X_test)\n",
    "\n",
    "# 输出结果的精准度，召回率，F1值\n",
    "from sklearn.metrics import classification_report\n",
    "print(classification_report(y_test, y_pred))"
   ]
  },
  {
   "cell_type": "code",
   "execution_count": 26,
   "metadata": {},
   "outputs": [
    {
     "name": "stdout",
     "output_type": "stream",
     "text": [
      "           feature  importance\n",
      "4    education-num   19.367470\n",
      "3        education   19.125663\n",
      "5   marital-status   14.018690\n",
      "12  hours-per-week    9.784763\n",
      "10    capital-gain    8.540939\n",
      "0              age    5.988355\n",
      "7     relationship    4.945408\n",
      "6       occupation    4.823682\n",
      "1        workclass    4.817747\n",
      "2           fnlwgt    3.391524\n",
      "9              sex    2.235695\n",
      "11    capital-loss    1.830420\n",
      "8             race    0.588597\n",
      "13  native-country    0.541049\n"
     ]
    }
   ],
   "source": [
    "# 输出每个属性的权重\n",
    "feature_importance = pd.DataFrame({'feature': X_train.columns,\n",
    "\t\t\t\t\t\t\t\t   'importance': catboost.feature_importances_})\n",
    "feature_importance.sort_values(by='importance', ascending=False, inplace=True)\n",
    "print(feature_importance)"
   ]
  }
 ],
 "metadata": {
  "kernelspec": {
   "display_name": "kaggel",
   "language": "python",
   "name": "python3"
  },
  "language_info": {
   "codemirror_mode": {
    "name": "ipython",
    "version": 3
   },
   "file_extension": ".py",
   "mimetype": "text/x-python",
   "name": "python",
   "nbconvert_exporter": "python",
   "pygments_lexer": "ipython3",
   "version": "3.10.13"
  }
 },
 "nbformat": 4,
 "nbformat_minor": 2
}
